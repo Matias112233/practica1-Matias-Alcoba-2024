{
 "cells": [
  {
   "cell_type": "markdown",
   "metadata": {
    "collapsed": false
   },
   "source": []
  },
  {
   "cell_type": "code",
   "execution_count": 1,
   "metadata": {
    "collapsed": false
   },
   "outputs": [
    {
     "name": "stdout",
     "output_type": "stream",
     "text": [
      "Average of numbers after \"New Revision:\" in ../data/mbox.txt: 38549\n",
      "Average of numbers after \"New Revision:\" in ../data/mbox-short.txt: 39756\n"
     ]
    }
   ],
   "source": [
    "import re\n",
    "\n",
    "# Function to calculate the average of numbers found after \"New Revision:\"\n",
    "def calculate_average(numbers):\n",
    "    if not numbers:  # Check if the list is empty\n",
    "        return 0\n",
    "    total = sum(numbers)\n",
    "    average = total / len(numbers)\n",
    "    return int(average)\n",
    "\n",
    "# Path to the mbox.txt file\n",
    "file_path1 = '../data/mbox.txt'\n",
    "file_path2 = '../data/mbox-short.txt'\n",
    "\n",
    "# Regular expression to find numbers after \"New Revision:\"\n",
    "number_pattern = r'New Revision:\\s*(\\d+)'\n",
    "\n",
    "# List to store the found numbers\n",
    "numbers_file1 = []\n",
    "numbers_file2 = []\n",
    "\n",
    "# Open the mbox.txt file and search for numbers after \"New Revision:\"\n",
    "with open(file_path1, 'r') as file1:\n",
    "    content1 = file1.read()\n",
    "    found_numbers1 = re.findall(number_pattern, content1)\n",
    "    numbers_file1 = [int(number) for number in found_numbers1]\n",
    "\n",
    "# Open the mbox-short.txt file and search for numbers after \"New Revision:\"\n",
    "with open(file_path2, 'r') as file2:\n",
    "    content2 = file2.read()\n",
    "    found_numbers2 = re.findall(number_pattern, content2)\n",
    "    numbers_file2 = [int(number) for number in found_numbers2]\n",
    "\n",
    "# Calculate the average for both files\n",
    "average_file1 = calculate_average(numbers_file1)\n",
    "average_file2 = calculate_average(numbers_file2)\n",
    "\n",
    "# Print the results\n",
    "print(f'Average of numbers after \"New Revision:\" in {file_path1}: {average_file1}')\n",
    "print(f'Average of numbers after \"New Revision:\" in {file_path2}: {average_file2}')\n"
   ]
  }
 ],
 "metadata": {
  "kernelspec": {
   "display_name": "Python 3",
   "language": "python",
   "name": "python3"
  },
  "language_info": {
   "codemirror_mode": {
    "name": "ipython",
    "version": 3
   },
   "file_extension": ".py",
   "mimetype": "text/x-python",
   "name": "python",
   "nbconvert_exporter": "python",
   "pygments_lexer": "ipython3",
   "version": "3.9.6"
  }
 },
 "nbformat": 4,
 "nbformat_minor": 0
}
